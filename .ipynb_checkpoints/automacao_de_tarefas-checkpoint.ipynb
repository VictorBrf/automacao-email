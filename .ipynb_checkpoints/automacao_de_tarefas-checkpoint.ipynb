{
 "cells": [
  {
   "cell_type": "markdown",
   "id": "dcb66760-3c2e-416c-8bcd-563248096584",
   "metadata": {},
   "source": [
    "# Automação de tarefas"
   ]
  },
  {
   "cell_type": "markdown",
   "id": "924dbda6-a845-4a36-8a70-fc0a2781de58",
   "metadata": {},
   "source": [
    "## Problemas a serem resolvidos\n",
    "- Buscar automaticamente dados das ações\n",
    "- analisaros dados de acordo com a solicitação do gestor\n",
    "- enviar um e-mail com todas as análises de forma automática"
   ]
  },
  {
   "cell_type": "code",
   "execution_count": 21,
   "id": "5b3c8ceb-898c-4818-870f-81437f5c4978",
   "metadata": {
    "scrolled": true
   },
   "outputs": [],
   "source": [
    "#!pip install yfinance\n",
    "#!pip install pyautogui\n",
    "#!pip install pyperclip"
   ]
  },
  {
   "cell_type": "code",
   "execution_count": 28,
   "id": "9cfe9d67-fc8f-4207-aee3-bf8fd545cfbd",
   "metadata": {},
   "outputs": [],
   "source": [
    "import yfinance\n",
    "import pyautogui\n",
    "import pyperclip\n",
    "import time"
   ]
  },
  {
   "cell_type": "markdown",
   "id": "bebfdc2f-6751-44a6-92a3-e37ee06a7dbc",
   "metadata": {},
   "source": [
    "## PASSO 1"
   ]
  },
  {
   "cell_type": "code",
   "execution_count": 32,
   "id": "f1e75757-e11b-415e-ba2e-e70db26abe9e",
   "metadata": {},
   "outputs": [
    {
     "name": "stdin",
     "output_type": "stream",
     "text": [
      "Digite o código da ação desejada:  BTC-USD\n"
     ]
    }
   ],
   "source": [
    "codigo = input('Digite o código da ação desejada: ')\n",
    "dados = yfinance.Ticker(codigo).history('6mo')\n",
    "\n",
    "fechamento = dados.Close\n",
    "#fechamento.plot()"
   ]
  },
  {
   "cell_type": "markdown",
   "id": "7fa630a8-4d5a-4f99-972d-377abc6ec9f7",
   "metadata": {},
   "source": [
    "## PASSO 2"
   ]
  },
  {
   "cell_type": "code",
   "execution_count": 39,
   "id": "6d44bc62-5088-4c32-976a-c9fa24702dde",
   "metadata": {},
   "outputs": [],
   "source": [
    "cotacao_max = fechamento.max()\n",
    "cotacao_min = fechamento.min()\n",
    "cotacao_atual = fechamento.iloc[-1]"
   ]
  },
  {
   "cell_type": "markdown",
   "id": "49c02013-30a7-4fca-8ecd-a5d7cc435fb6",
   "metadata": {},
   "source": [
    "## PASSO 3 (Automatizar envio de e-mail)\n",
    "\n",
    "- Abrir uma nova aba(ctrl + t)\n",
    "- Escrever o endereço do email e apertar enter\n",
    "- Clicar no botão de escrever\n",
    "- Preencher destinatário, tab\n",
    "- Preencher assunto, tab\n",
    "- Preencher corpo do email\n",
    "- Clicar no botão de enviar"
   ]
  },
  {
   "cell_type": "code",
   "execution_count": 40,
   "id": "3f562ed6-bb55-4bb0-b0ff-c4f181e1ac8b",
   "metadata": {},
   "outputs": [],
   "source": [
    "pyautogui.PAUSE = 2\n",
    "pyautogui.hotkey('ctrl', 't')\n",
    "\n",
    "pyperclip.copy('www.gmail.com')\n",
    "pyautogui.hotkey('ctrl','v')\n",
    "pyautogui.hotkey('enter')\n",
    "\n",
    "pyautogui.click(x=-1785, y=213)\n",
    "\n",
    "pyperclip.copy('victorrf@sempreceub.com')\n",
    "pyautogui.hotkey('ctrl','v')\n",
    "pyautogui.hotkey('tab')\n",
    "\n",
    "pyperclip.copy('Análises diárias')\n",
    "pyautogui.hotkey('ctrl','v')\n",
    "pyautogui.hotkey('tab')\n",
    "\n",
    "mensagem = f'Análise dos últimos 6 meses da ação {codigo} \\nCotação máxima: $ {round(cotacao_max, 2)} \\nCotação mínima: $ {round(cotacao_min, 2)} \\nCotação atual: $ {round(cotacao_atual, 2)}'\n",
    "pyperclip.copy(mensagem)\n",
    "pyautogui.hotkey('ctrl','v')\n",
    "\n",
    "pyautogui.click(x=-594, y=999)"
   ]
  },
  {
   "cell_type": "code",
   "execution_count": 38,
   "id": "9467bfc1-a2dc-45c1-ab87-9c797f4853c7",
   "metadata": {},
   "outputs": [
    {
     "data": {
      "text/plain": [
       "Point(x=-594, y=999)"
      ]
     },
     "execution_count": 38,
     "metadata": {},
     "output_type": "execute_result"
    }
   ],
   "source": [
    "time.sleep(5)\n",
    "pyautogui.position()"
   ]
  },
  {
   "cell_type": "code",
   "execution_count": null,
   "id": "957caad9-6269-4c68-bbc9-1d4d8471be9e",
   "metadata": {},
   "outputs": [],
   "source": []
  },
  {
   "cell_type": "code",
   "execution_count": null,
   "id": "7b862d7f-5e24-4861-a344-3c0daa12e75f",
   "metadata": {},
   "outputs": [],
   "source": []
  }
 ],
 "metadata": {
  "kernelspec": {
   "display_name": "Python 3 (ipykernel)",
   "language": "python",
   "name": "python3"
  },
  "language_info": {
   "codemirror_mode": {
    "name": "ipython",
    "version": 3
   },
   "file_extension": ".py",
   "mimetype": "text/x-python",
   "name": "python",
   "nbconvert_exporter": "python",
   "pygments_lexer": "ipython3",
   "version": "3.11.7"
  }
 },
 "nbformat": 4,
 "nbformat_minor": 5
}
